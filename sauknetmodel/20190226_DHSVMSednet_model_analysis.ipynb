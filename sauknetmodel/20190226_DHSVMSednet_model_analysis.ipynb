{
 "cells": [
  {
   "cell_type": "code",
   "execution_count": 36,
   "metadata": {},
   "outputs": [],
   "source": [
    "import numpy as np\n",
    "import pandas as pd\n",
    "import matplotlib.pyplot as plt\n",
    "import datetime\n",
    "import time\n",
    "import os\n",
    "\n"
   ]
  },
  {
   "cell_type": "code",
   "execution_count": 37,
   "metadata": {},
   "outputs": [
    {
     "name": "stdout",
     "output_type": "stream",
     "text": [
      "/home/jovyan/work/notebooks/data/d5f1f96849554e03aa98bed5aff36cf7/d5f1f96849554e03aa98bed5aff36cf7/data/contents\n",
      "C_ss.npy\t Vg_cap_annual.npy  Vs_b_annual.npy    Vs_mw_annual.npy\n",
      "time_mw.npy\t Vg_mw_annual.npy   Vsb_t_annual.npy   Vss_t_annual.npy\n",
      "tL_mw.npy\t Vg_t_annual.npy    Vs_cap_annual.npy  Vs_t_annual.npy\n",
      "Vg_b_annual.npy  Vm_t_annual.npy    Vs_dep.npy\n"
     ]
    }
   ],
   "source": [
    "\n",
    "#os.chdir('2019-02-27_0020')\n",
    "!pwd\n",
    "!ls *npy\n"
   ]
  },
  {
   "cell_type": "code",
   "execution_count": 38,
   "metadata": {},
   "outputs": [],
   "source": [
    "#os.chdir('..')"
   ]
  },
  {
   "cell_type": "code",
   "execution_count": 39,
   "metadata": {},
   "outputs": [],
   "source": [
    "#Load npy\n",
    "C_ss=np.load('C_ss.npy')\n",
    "time_mw=np.load('time_mw.npy')\n",
    "tL=np.load('tL_mw.npy')\n",
    "Vg_b_annual=np.load('Vg_b_annual.npy')\n",
    "Vg_cap_annual=np.load('Vg_cap_annual.npy')\n",
    "Vsb_t_annual=np.load('Vsb_t_annual.npy')\n",
    "Vg_t_annual=np.load('Vg_t_annual.npy')\n",
    "Vs_t_annual=np.load('Vs_t_annual.npy')\n",
    "\n",
    "Vm_t_annual=np.load('Vm_t_annual.npy')\n"
   ]
  },
  {
   "cell_type": "code",
   "execution_count": 40,
   "metadata": {},
   "outputs": [
    {
     "data": {
      "text/plain": [
       "(440, 97)"
      ]
     },
     "execution_count": 40,
     "metadata": {},
     "output_type": "execute_result"
    }
   ],
   "source": [
    "Vm_t_annual.shape #links in network, years (only < 20 should have values)"
   ]
  },
  {
   "cell_type": "code",
   "execution_count": 41,
   "metadata": {},
   "outputs": [
    {
     "name": "stdout",
     "output_type": "stream",
     "text": [
      "1905.0\n",
      "1866.0\n",
      "772.0\n"
     ]
    }
   ],
   "source": [
    "# DHSVM model inputs\n",
    "network_input ='streamfile_2km2_sauk.txt'\n",
    "#Details from DHSVM Network model input\n",
    "#    1  57     0.00107         750.00000   6      -1 SAVE \"outlet\"\n",
    "#   19  53     0.00237        6368.37662  12       5 SAVE \"12189500\"\n",
    "#  187  30     0.00546        4945.58441  12     147 SAVE \"12187500\"\n",
    "#  224   7     0.01904        1722.79221  18     207 SAVE \"12187000\"\n",
    "#  257  18     0.02688        1536.39610  18     255 SAVE \"12186500\"\n",
    "        \n",
    "#DHSVM network link\n",
    "outlet=1\n",
    "middlesauk=187   #Sauk River near Darrington NWISDV:12187500\n",
    "lowersauk_dhsvmid=19  #Sauk River near Sauk NWISDV:12189500  PNNL-Python code link 20; (AML code link 19)\n",
    "lowersauk_pnnl_area=20\n",
    "\n",
    "#DHSVM network link - other locations\n",
    "suiattleglacier=368\n",
    "SaukaboveWhiteChuck=279  \n",
    "SaukWhiteChuck=263\n",
    "headwaters=260\n",
    "\n",
    "DHSVMnetwork=pd.read_table(network_input)\n",
    "area_o=DHSVMnetwork.total_ca_mean[outlet-1]/1000000\n",
    "area_low=DHSVMnetwork.total_ca_mean[lowersauk_pnnl_area-1]/1000000\n",
    "area_mid=DHSVMnetwork.total_ca_mean[middlesauk-1]/1000000\n",
    "print(round(area_o,0))\n",
    "print(round(area_low,0))\n",
    "print(round(area_mid,0))"
   ]
  },
  {
   "cell_type": "code",
   "execution_count": 42,
   "metadata": {},
   "outputs": [
    {
     "data": {
      "text/plain": [
       "(97,)"
      ]
     },
     "execution_count": 42,
     "metadata": {},
     "output_type": "execute_result"
    }
   ],
   "source": [
    "Vm_t_annual[outlet].shape"
   ]
  },
  {
   "cell_type": "code",
   "execution_count": 43,
   "metadata": {},
   "outputs": [],
   "source": [
    "#Calculate for entire network\n",
    "#totaltransport=Vg_t_annual+Vs_t_annual+Vm_t_annual\n",
    "#bedloadtransport=Vg_t_annual+Vsb_t_annual\n",
    "#suspendedload=totaltransport-bedloadtransport"
   ]
  },
  {
   "cell_type": "code",
   "execution_count": 44,
   "metadata": {},
   "outputs": [],
   "source": [
    "#List of all links in network for running sediment model\n",
    "# DHSVM model output  - flow at each stream node\n",
    "streamflow_input='Outflow.Only'\n",
    "stream_columns=['Date',1,2,3,4,5,6,7,8,9,10,11,12,13,14,15,16,17,18,19,20,21,22,23,24,25,26,27,28,29,30,31,32,33,34,35,36,37,38,39,40,41,42,43,44,45,46,47,48,49,50,51,52,53,54,55,56,57,58,59,60,61,62,63,64,65,66,67,68,69,70,71,72,73,74,75,76,77,78,79,80,81,82,83,84,85,86,87,88,89,90,91,92,93,94,95,96,97,98,99,100,101,102,103,104,105,106,107,108,109,110,111,112,113,114,115,116,117,118,119,120,121,122,123,124,125,126,127,128,129,130,131,132,133,134,135,136,137,138,139,140,141,142,143,144,145,146,147,148,149,150,151,152,153,154,155,156,157,158,159,160,161,162,163,164,165,166,167,168,169,170,171,172,173,174,175,176,177,178,179,180,181,182,183,184,185,186,187,188,189,190,191,192,193,194,195,196,197,198,199,200,201,202,203,204,205,206,207,208,209,210,211,212,213,214,215,216,217,218,219,220,221,222,223,224,225,226,227,228,229,230,231,232,233,234,235,236,237,238,239,240,241,242,243,244,245,246,247,248,249,250,251,252,253,254,255,256,257,258,259,260,261,262,263,264,265,266,267,268,269,270,271,272,273,274,275,276,277,278,279,280,281,282,283,284,285,286,287,288,289,290,291,292,293,294,295,296,297,298,299,300,301,302,303,304,305,306,307,308,309,310,311,312,313,314,315,316,317,318,319,320,321,322,323,324,325,326,327,328,329,330,331,332,333,334,335,336,337,338,339,340,341,342,343,344,345,346,347,348,349,350,351,352,353,354,355,356,357,358,359,360,361,362,363,364,365,366,367,368,369,370,371,372,373,374,375,376,377,378,379,380,381,382,383,384,385,386,387,388,389,390,391,392,393,394,395,396,397,398,399,400,401,402,403,404,405,406,407,408,409,410,411,412,413,414,415,416,417,418,419,420,421,422,423,424,425,426,427,428,429,430,431,432,433,434,435,436,437,438,439]\n",
    "forcing_start_date=datetime.date(1915,1,1)\n",
    "forcing_end_date=datetime.date(2011,12,31)\n",
    "\n",
    "forcing_date_range=pd.date_range(forcing_start_date, forcing_end_date)\n",
    "streamflow=pd.DataFrame(index=forcing_date_range, columns=stream_columns)\n",
    "#streamflow.loc[forcing_date_range[0],:]=pd.read_table(streamflow_input, skiprows=[0,1], header=None,sep='\\s+')\n",
    "streamflow=pd.read_table(streamflow_input, skiprows=[0,1], header=None,sep='\\s+')\n",
    "streamflow.columns=stream_columns        \n",
    "streamflow=streamflow.set_index('Date', drop=True)\n",
    "streamflow.index = pd.to_datetime(streamflow.index)\n",
    "streamflow\n",
    "type(streamflow.index)\n",
    "Qmod_median=streamflow.median(axis=0)"
   ]
  },
  {
   "cell_type": "code",
   "execution_count": 45,
   "metadata": {},
   "outputs": [],
   "source": [
    "#evaluation_years_plot=np.arange(1915,2011) \n",
    "evaluation_years_plot=np.unique(streamflow.index.year)"
   ]
  },
  {
   "cell_type": "code",
   "execution_count": 46,
   "metadata": {},
   "outputs": [
    {
     "data": {
      "text/plain": [
       "[<matplotlib.lines.Line2D at 0x7f43b502bd30>]"
      ]
     },
     "execution_count": 46,
     "metadata": {},
     "output_type": "execute_result"
    },
    {
     "data": {
      "image/png": "[encoded data removed]",
      "text/plain": [
       "<matplotlib.figure.Figure at 0x7f43b4ff44a8>"
      ]
     },
     "metadata": {},
     "output_type": "display_data"
    }
   ],
   "source": [
    "totaltransport_outlet=Vg_t_annual[outlet]+Vs_t_annual[outlet]+Vm_t_annual[outlet]\n",
    "bedloadtransport_outlet=Vg_t_annual[outlet]+Vsb_t_annual[outlet]\n",
    "suspendedload_outlet=totaltransport_outlet-bedloadtransport_outlet\n",
    "\n",
    "fig = plt.figure()\n",
    "ax = fig.add_subplot(221)\n",
    "plt.plot(evaluation_years_plot,totaltransport_outlet)\n",
    "ax = fig.add_subplot(222)\n",
    "plt.plot(evaluation_years_plot,bedloadtransport_outlet)\n",
    "ax = fig.add_subplot(223)\n",
    "plt.plot(evaluation_years_plot,suspendedload_outlet)\n",
    "ax = fig.add_subplot(224)\n",
    "plt.plot(evaluation_years_plot,Vg_t_annual[outlet])"
   ]
  },
  {
   "cell_type": "code",
   "execution_count": 47,
   "metadata": {},
   "outputs": [
    {
     "data": {
      "text/plain": [
       "[<matplotlib.lines.Line2D at 0x7f43b783a470>]"
      ]
     },
     "execution_count": 47,
     "metadata": {},
     "output_type": "execute_result"
    },
    {
     "data": {
      "image/png": "[encoded data removed]",
      "text/plain": [
       "<matplotlib.figure.Figure at 0x7f43b5034cf8>"
      ]
     },
     "metadata": {},
     "output_type": "display_data"
    }
   ],
   "source": [
    "totaltransport_middlesauk=Vg_t_annual[middlesauk]+Vs_t_annual[middlesauk]+Vm_t_annual[middlesauk]\n",
    "bedloadtransport_middlesauk=Vg_t_annual[middlesauk]+Vsb_t_annual[middlesauk]\n",
    "suspendedload_middlesauk=totaltransport_middlesauk-bedloadtransport_middlesauk\n",
    "\n",
    "fig = plt.figure()\n",
    "ax = fig.add_subplot(221)\n",
    "plt.plot(evaluation_years_plot,totaltransport_middlesauk)\n",
    "ax = fig.add_subplot(222)\n",
    "plt.plot(evaluation_years_plot,bedloadtransport_middlesauk)\n",
    "ax = fig.add_subplot(223)\n",
    "plt.plot(evaluation_years_plot,suspendedload_middlesauk)\n",
    "ax = fig.add_subplot(224)\n",
    "plt.plot(evaluation_years_plot,Vg_t_annual[middlesauk])"
   ]
  },
  {
   "cell_type": "code",
   "execution_count": 48,
   "metadata": {},
   "outputs": [
    {
     "data": {
      "text/plain": [
       "[<matplotlib.lines.Line2D at 0x7f43b7688668>]"
      ]
     },
     "execution_count": 48,
     "metadata": {},
     "output_type": "execute_result"
    },
    {
     "data": {
      "image/png": "[encoded data removed]",
      "text/plain": [
       "<matplotlib.figure.Figure at 0x7f43b77900f0>"
      ]
     },
     "metadata": {},
     "output_type": "display_data"
    }
   ],
   "source": [
    "totaltransport_headwaters=Vg_t_annual[headwaters]+Vs_t_annual[headwaters]+Vm_t_annual[headwaters]\n",
    "bedloadtransport_headwaters=Vg_t_annual[headwaters]+Vsb_t_annual[headwaters]\n",
    "suspendedload_headwaters=totaltransport_headwaters-bedloadtransport_headwaters\n",
    "\n",
    "fig = plt.figure()\n",
    "ax = fig.add_subplot(221)\n",
    "plt.plot(evaluation_years_plot,totaltransport_headwaters)\n",
    "ax = fig.add_subplot(222)\n",
    "plt.plot(evaluation_years_plot,bedloadtransport_headwaters)\n",
    "ax = fig.add_subplot(223)\n",
    "plt.plot(evaluation_years_plot,suspendedload_headwaters)\n",
    "ax = fig.add_subplot(224)\n",
    "plt.plot(evaluation_years_plot,Vg_t_annual[headwaters])"
   ]
  },
  {
   "cell_type": "code",
   "execution_count": 49,
   "metadata": {},
   "outputs": [
    {
     "data": {
      "image/png": "[encoded data removed]",
      "text/plain": [
       "<matplotlib.figure.Figure at 0x7f43b7651160>"
      ]
     },
     "metadata": {},
     "output_type": "display_data"
    }
   ],
   "source": [
    "dict_s = {\n",
    "    'Headwaters': totaltransport_headwaters,\n",
    "    'Middle Sauk': totaltransport_middlesauk,\n",
    "    'Sauk Outlet': totaltransport_outlet\n",
    "}\n",
    "\n",
    "for k, v in dict_s.items():\n",
    "    plt.plot(evaluation_years_plot, v, '.-', label=k)\n",
    "    # NOTE: changed `range(1, 4)` to mach actual values count\n",
    "plt.legend()  # To draw legend\n",
    "plt.show()"
   ]
  },
  {
   "cell_type": "code",
   "execution_count": 50,
   "metadata": {},
   "outputs": [
    {
     "ename": "NameError",
     "evalue": "name 'totaltransport' is not defined",
     "output_type": "error",
     "traceback": [
      "\u001b[0;31m---------------------------------------------------------------------------\u001b[0m",
      "\u001b[0;31mNameError\u001b[0m                                 Traceback (most recent call last)",
      "\u001b[0;32m<ipython-input-50-a65063e06d0b>\u001b[0m in \u001b[0;36m<module>\u001b[0;34m()\u001b[0m\n\u001b[1;32m      1\u001b[0m \u001b[0;31m#Other plots Plot time series of years\u001b[0m\u001b[0;34m\u001b[0m\u001b[0;34m\u001b[0m\u001b[0m\n\u001b[1;32m      2\u001b[0m \u001b[0;31m# 2 x 2 Total transport\u001b[0m\u001b[0;34m\u001b[0m\u001b[0;34m\u001b[0m\u001b[0m\n\u001b[0;32m----> 3\u001b[0;31m \u001b[0mtotaltransport\u001b[0m\u001b[0;34m\u001b[0m\u001b[0m\n\u001b[0m\u001b[1;32m      4\u001b[0m \u001b[0mVg_t_annual\u001b[0m\u001b[0;34m[\u001b[0m\u001b[0moutlet\u001b[0m\u001b[0;34m]\u001b[0m\u001b[0;34m\u001b[0m\u001b[0m\n\u001b[1;32m      5\u001b[0m \u001b[0mVs_t_annual\u001b[0m\u001b[0;34m[\u001b[0m\u001b[0moutlet\u001b[0m\u001b[0;34m]\u001b[0m\u001b[0;34m\u001b[0m\u001b[0m\n",
      "\u001b[0;31mNameError\u001b[0m: name 'totaltransport' is not defined"
     ]
    }
   ],
   "source": [
    "#Other plots Plot time series of years\n",
    "# 2 x 2 Total transport\n",
    "totaltransport\n",
    "Vg_t_annual[outlet]\n",
    "Vs_t_annual[outlet]\n",
    "Vm_t_annual[outlet]\n",
    "\n",
    "# 2 x 2 Bedload transport\n",
    "totaltransport\n",
    "bedloadtransport\n",
    "Vg_t_annual\n",
    "Vsb_t_annual\n",
    "\n",
    "# 2 x 2 Suspended load\n",
    "suspendedload\n",
    "totaltransport\n",
    "bedloadtransport\n",
    "Vg_t_annual"
   ]
  },
  {
   "cell_type": "code",
   "execution_count": null,
   "metadata": {},
   "outputs": [],
   "source": []
  }
 ],
 "metadata": {
  "kernelspec": {
   "display_name": "Python 3",
   "language": "python",
   "name": "python3"
  },
  "language_info": {
   "codemirror_mode": {
    "name": "ipython",
    "version": 3
   },
   "file_extension": ".py",
   "mimetype": "text/x-python",
   "name": "python",
   "nbconvert_exporter": "python",
   "pygments_lexer": "ipython3",
   "version": "3.6.5"
  }
 },
 "nbformat": 4,
 "nbformat_minor": 2
}
